{
 "cells": [
  {
   "cell_type": "code",
   "execution_count": 17,
   "id": "04f86d9b-cb2c-4d8c-8caf-9d9fcbc7d2bb",
   "metadata": {},
   "outputs": [],
   "source": [
    "#1번문제\n",
    "lovely_loveseat_description = \"Lovely Loveseat. Tufted polyster blend on wood. 32 inches high x 40 inches wide x 30 inches deep. Red or white.\""
   ]
  },
  {
   "cell_type": "code",
   "execution_count": 18,
   "id": "4ea177bc-5cdf-44e2-a172-e4461f81790e",
   "metadata": {},
   "outputs": [],
   "source": [
    "#2번문제\n",
    "lovely_loveseat_price = 254.00"
   ]
  },
  {
   "cell_type": "code",
   "execution_count": 19,
   "id": "147d55b6-8330-466b-97be-70b4a780d147",
   "metadata": {},
   "outputs": [],
   "source": [
    "#3번문제\n",
    "stylish_settee_description = \"Stylish Settee. Faux leather on birch. 29.50 inches high x 54.75 inches wide x 28 inches deep. Black.\""
   ]
  },
  {
   "cell_type": "code",
   "execution_count": 20,
   "id": "d683992e-f442-47df-8002-c361e1ae4da6",
   "metadata": {},
   "outputs": [],
   "source": [
    "#4번문제\n",
    "stylish_settee_price = 180.50"
   ]
  },
  {
   "cell_type": "code",
   "execution_count": 21,
   "id": "c233af85-4203-4ca2-a702-b2b60c171237",
   "metadata": {},
   "outputs": [],
   "source": [
    "#5번문제\n",
    "luxurious_lamp_description = \"Luxurious Lamp. Glass and iron. 36 inches tall. Brown with cream shade.\""
   ]
  },
  {
   "cell_type": "code",
   "execution_count": 22,
   "id": "b784d0cb-d71f-47a2-8fdd-13bdd7958d2f",
   "metadata": {},
   "outputs": [],
   "source": [
    "#6번문제\n",
    "luxurious_lamp_price = 52.15"
   ]
  },
  {
   "cell_type": "code",
   "execution_count": 23,
   "id": "2c4cef32-5e78-465c-9656-072703047e19",
   "metadata": {},
   "outputs": [],
   "source": [
    "#7번문제\n",
    "sales_tax = 0.088"
   ]
  },
  {
   "cell_type": "code",
   "execution_count": 24,
   "id": "2b7efdc1-1521-4d64-82fe-c3d77c7faf4d",
   "metadata": {},
   "outputs": [],
   "source": [
    "#8번문제\n",
    "customer_one_total = 0"
   ]
  },
  {
   "cell_type": "code",
   "execution_count": 25,
   "id": "20a97662-2666-4792-a336-32b59aecbedc",
   "metadata": {},
   "outputs": [],
   "source": [
    "#9번문제\n",
    "customer_one_itemization = \"\""
   ]
  },
  {
   "cell_type": "code",
   "execution_count": 26,
   "id": "cd401aff-1354-4b5f-bd68-c4ce9803c071",
   "metadata": {},
   "outputs": [],
   "source": [
    "#10번문제\n",
    "customer_one_total += lovely_loveseat_price"
   ]
  },
  {
   "cell_type": "code",
   "execution_count": 27,
   "id": "8e8b5442-437c-4410-8fbc-dcfab2c91b69",
   "metadata": {},
   "outputs": [],
   "source": [
    "#11번문제\n",
    "customer_one_itemization += lovely_loveseat_description"
   ]
  },
  {
   "cell_type": "code",
   "execution_count": 28,
   "id": "afd6e214-4e25-49d3-989d-1a8e02c90ecb",
   "metadata": {},
   "outputs": [],
   "source": [
    "#12번문제\n",
    "customer_one_total += luxurious_lamp_price"
   ]
  },
  {
   "cell_type": "code",
   "execution_count": 29,
   "id": "0ee49c43-c3b3-42b9-84ee-090e5b39ec31",
   "metadata": {},
   "outputs": [],
   "source": [
    "#13번문제\n",
    "customer_one_itemization += luxurious_lamp_description"
   ]
  },
  {
   "cell_type": "code",
   "execution_count": 30,
   "id": "55c4fd07-bc80-4398-a139-f819eb19594c",
   "metadata": {},
   "outputs": [],
   "source": [
    "#14번문제\n",
    "customer_one_tax = customer_one_total * sales_tax"
   ]
  },
  {
   "cell_type": "code",
   "execution_count": 31,
   "id": "7e946b37-d4a6-4605-a27d-2343df58147c",
   "metadata": {},
   "outputs": [],
   "source": [
    "#15번문제\n",
    "customer_one_total += customer_one_tax"
   ]
  },
  {
   "cell_type": "code",
   "execution_count": 32,
   "id": "e8f3b5f4-92d1-49aa-8091-c454dfdd7a1d",
   "metadata": {},
   "outputs": [
    {
     "name": "stdout",
     "output_type": "stream",
     "text": [
      "Customer One Items:\n",
      "Lovely Loveseat. Tufted polyster blend on wood. 32 inches high x 40 inches wide x 30 inches deep. Red or white.Luxurious Lamp. Glass and iron. 36 inches tall. Brown with cream shade.\n",
      "Customer One Total:\n",
      "333.09119999999996\n"
     ]
    }
   ],
   "source": [
    "#16,17,18,19,20번문제\n",
    "print(\"Customer One Items:\")\n",
    "print(customer_one_itemization)\n",
    "print(\"Customer One Total:\")\n",
    "print(customer_one_total)"
   ]
  }
 ],
 "metadata": {
  "kernelspec": {
   "display_name": "Python 3 (ipykernel)",
   "language": "python",
   "name": "python3"
  },
  "language_info": {
   "codemirror_mode": {
    "name": "ipython",
    "version": 3
   },
   "file_extension": ".py",
   "mimetype": "text/x-python",
   "name": "python",
   "nbconvert_exporter": "python",
   "pygments_lexer": "ipython3",
   "version": "3.9.12"
  }
 },
 "nbformat": 4,
 "nbformat_minor": 5
}
