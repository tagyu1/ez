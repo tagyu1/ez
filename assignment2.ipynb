{
 "cells": [
  {
   "cell_type": "code",
   "execution_count": 15,
   "id": "c782f557-0927-4881-8c17-63026e4ae30c",
   "metadata": {},
   "outputs": [],
   "source": [
    "#1번문제\n",
    "subjects = [\"physics\", \"calculus\", \"poetry\", \"history\"]"
   ]
  },
  {
   "cell_type": "code",
   "execution_count": 16,
   "id": "9e5ab3f2-0f0b-486a-89cf-d093619865fb",
   "metadata": {},
   "outputs": [],
   "source": [
    "#2번문제\n",
    "grades = [98, 97, 85, 88]"
   ]
  },
  {
   "cell_type": "code",
   "execution_count": 17,
   "id": "58b1cfe6-4381-4ab2-a347-d56394effb5f",
   "metadata": {},
   "outputs": [],
   "source": [
    "#3번문제\n",
    "gradebook = [[\"physics\", 98], [\"calculus\", 97], [\"poetry\", 85], [\"history\", 88]]"
   ]
  },
  {
   "cell_type": "code",
   "execution_count": 18,
   "id": "3f75e259-edfb-4e35-9164-386f0789bc06",
   "metadata": {},
   "outputs": [
    {
     "name": "stdout",
     "output_type": "stream",
     "text": [
      "[['physics', 98], ['calculus', 97], ['poetry', 85], ['history', 88]]\n"
     ]
    }
   ],
   "source": [
    "#4번문제\n",
    "print(gradebook)"
   ]
  },
  {
   "cell_type": "code",
   "execution_count": 19,
   "id": "dfb11f8c-a53f-4b29-aadc-fd65c0ff106a",
   "metadata": {},
   "outputs": [],
   "source": [
    "#5번문제\n",
    "gradebook.append([\"computer science\", 100])"
   ]
  },
  {
   "cell_type": "code",
   "execution_count": 20,
   "id": "e4d7bf11-2b1e-4980-ae33-8664f5139c30",
   "metadata": {},
   "outputs": [],
   "source": [
    "#6번문제\n",
    "gradebook.append([\"visual arts\", 93])"
   ]
  },
  {
   "cell_type": "code",
   "execution_count": 21,
   "id": "6b27232e-98ae-4611-a6c2-6919dcc9ec87",
   "metadata": {},
   "outputs": [
    {
     "name": "stdout",
     "output_type": "stream",
     "text": [
      "[['physics', 98], ['calculus', 97], ['poetry', 85], ['history', 88], ['computer science', 100], ['visual arts', 93]]\n"
     ]
    }
   ],
   "source": [
    "print (gradebook)"
   ]
  },
  {
   "cell_type": "code",
   "execution_count": 22,
   "id": "4da31833-b4e8-4d05-b58e-65718475b8fd",
   "metadata": {},
   "outputs": [],
   "source": [
    "#7번문제\n",
    "gradebook[-1][1] += 5"
   ]
  },
  {
   "cell_type": "code",
   "execution_count": 23,
   "id": "8eb7bb67-1bd7-423e-9b72-6e5edf0981e4",
   "metadata": {},
   "outputs": [],
   "source": [
    "#8번문제\n",
    "gradebook[2].remove(85)"
   ]
  },
  {
   "cell_type": "code",
   "execution_count": 24,
   "id": "abb44433-99ad-4529-bd99-d35b6f019f74",
   "metadata": {},
   "outputs": [],
   "source": [
    "#9번문제\n",
    "gradebook[2].append(\"Pass\")"
   ]
  },
  {
   "cell_type": "code",
   "execution_count": 25,
   "id": "05d55c70-402c-4a8e-9c56-49d1256bdedf",
   "metadata": {},
   "outputs": [
    {
     "name": "stdout",
     "output_type": "stream",
     "text": [
      "[['physics', 98], ['calculus', 97], ['poetry', 'Pass'], ['history', 88], ['computer science', 100], ['visual arts', 98]]\n"
     ]
    }
   ],
   "source": [
    "print(gradebook)"
   ]
  },
  {
   "cell_type": "code",
   "execution_count": 26,
   "id": "9729d7d5-e9df-46bf-a9b9-b33f15d30f33",
   "metadata": {},
   "outputs": [],
   "source": [
    "#10번문제\n",
    "last_semester_gradebook = [[\"politics\", 80], [\"latin\", 96], [\"dance\", 97], [\"architecture\", 65]]"
   ]
  },
  {
   "cell_type": "code",
   "execution_count": 27,
   "id": "d97cc10e-eb5b-4732-8fa9-832b1214cce9",
   "metadata": {},
   "outputs": [],
   "source": [
    "full_gradebook = last_semester_gradebook + gradebook"
   ]
  },
  {
   "cell_type": "code",
   "execution_count": 28,
   "id": "e325877b-b3ee-4cfc-96be-85ce2dec517c",
   "metadata": {},
   "outputs": [
    {
     "name": "stdout",
     "output_type": "stream",
     "text": [
      "[['politics', 80], ['latin', 96], ['dance', 97], ['architecture', 65], ['physics', 98], ['calculus', 97], ['poetry', 'Pass'], ['history', 88], ['computer science', 100], ['visual arts', 98]]\n"
     ]
    }
   ],
   "source": [
    "print(full_gradebook)"
   ]
  }
 ],
 "metadata": {
  "kernelspec": {
   "display_name": "Python 3 (ipykernel)",
   "language": "python",
   "name": "python3"
  },
  "language_info": {
   "codemirror_mode": {
    "name": "ipython",
    "version": 3
   },
   "file_extension": ".py",
   "mimetype": "text/x-python",
   "name": "python",
   "nbconvert_exporter": "python",
   "pygments_lexer": "ipython3",
   "version": "3.9.12"
  }
 },
 "nbformat": 4,
 "nbformat_minor": 5
}
