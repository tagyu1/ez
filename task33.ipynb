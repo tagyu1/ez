{
 "cells": [
  {
   "cell_type": "code",
   "execution_count": 1,
   "id": "ba77d152-0547-4bf4-bf2b-0d8771fffefc",
   "metadata": {},
   "outputs": [],
   "source": [
    "hairstyles = [\"bouffant\", \"pixie\", \"dreadlocks\", \"crew\", \"bowl\", \"bob\", \"mohawk\", \"flattop\"]\n",
    "prices = [30, 25, 40, 20, 20, 35, 50, 35]\n",
    "last_week = [2, 3, 5, 8, 4, 4, 6, 2]"
   ]
  },
  {
   "cell_type": "code",
   "execution_count": 2,
   "id": "4a00b26b-896d-449c-8020-369dc3271463",
   "metadata": {},
   "outputs": [
    {
     "name": "stdout",
     "output_type": "stream",
     "text": [
      "255\n"
     ]
    }
   ],
   "source": [
    "total_price = 0\n",
    "for i in range(len(prices)):\n",
    "    total_price += prices[i]\n",
    "    \n",
    "print(total_price)"
   ]
  },
  {
   "cell_type": "code",
   "execution_count": 3,
   "id": "e86d4b22-b88a-40ba-b874-b9fa3ea360f8",
   "metadata": {},
   "outputs": [
    {
     "name": "stdout",
     "output_type": "stream",
     "text": [
      "Average price is 31.875\n"
     ]
    }
   ],
   "source": [
    "average_price = total_price / len(prices)\n",
    "print (\"Average price is\", average_price)"
   ]
  },
  {
   "cell_type": "code",
   "execution_count": 4,
   "id": "22127497-fe3d-42bc-96cf-779092be79f3",
   "metadata": {},
   "outputs": [],
   "source": [
    "new_prices = [k - 5 for k in prices]"
   ]
  },
  {
   "cell_type": "code",
   "execution_count": 6,
   "id": "b1008c9e-9cdb-4041-9ec4-b90f437ddf53",
   "metadata": {},
   "outputs": [
    {
     "name": "stdout",
     "output_type": "stream",
     "text": [
      "[25, 20, 35, 15, 15, 30, 45, 30]\n"
     ]
    }
   ],
   "source": [
    "print (new_prices)"
   ]
  },
  {
   "cell_type": "code",
   "execution_count": 7,
   "id": "8816c44c-b935-4243-80b2-b6fa2ac4f18f",
   "metadata": {},
   "outputs": [],
   "source": [
    "total_revenue = 0\n",
    "for i in range(len(hairstyles)):\n",
    "    total_revenue += prices[i] * last_week[i] "
   ]
  },
  {
   "cell_type": "code",
   "execution_count": 8,
   "id": "20431337-f5e1-42cc-bc28-5f1f69c55f10",
   "metadata": {},
   "outputs": [
    {
     "name": "stdout",
     "output_type": "stream",
     "text": [
      "1085\n"
     ]
    }
   ],
   "source": [
    "print (total_revenue)"
   ]
  },
  {
   "cell_type": "code",
   "execution_count": 9,
   "id": "3297bb29-244e-4582-8cc0-03dea990c1a8",
   "metadata": {},
   "outputs": [
    {
     "name": "stdout",
     "output_type": "stream",
     "text": [
      "Average daily revenue is 155.0\n"
     ]
    }
   ],
   "source": [
    "average_daily_revenue = total_revenue / 7\n",
    "print(\"Average daily revenue is\", average_daily_revenue)"
   ]
  },
  {
   "cell_type": "code",
   "execution_count": 10,
   "id": "5dadab5c-7455-44ac-834b-f620330d55a4",
   "metadata": {},
   "outputs": [],
   "source": [
    "cuts_under_30 = [hairstyles[i] for i in range(len(new_prices) - 1) if new_prices[i] < 30]"
   ]
  },
  {
   "cell_type": "code",
   "execution_count": 11,
   "id": "6828c3e0-861b-47ad-9df0-6aec1e86672a",
   "metadata": {},
   "outputs": [
    {
     "name": "stdout",
     "output_type": "stream",
     "text": [
      "['bouffant', 'pixie', 'crew', 'bowl']\n"
     ]
    }
   ],
   "source": [
    "print (cuts_under_30)"
   ]
  },
  {
   "cell_type": "code",
   "execution_count": null,
   "id": "3c16548f-94f7-4c09-b408-49027acaa7a7",
   "metadata": {},
   "outputs": [],
   "source": []
  }
 ],
 "metadata": {
  "kernelspec": {
   "display_name": "Python 3 (ipykernel)",
   "language": "python",
   "name": "python3"
  },
  "language_info": {
   "codemirror_mode": {
    "name": "ipython",
    "version": 3
   },
   "file_extension": ".py",
   "mimetype": "text/x-python",
   "name": "python",
   "nbconvert_exporter": "python",
   "pygments_lexer": "ipython3",
   "version": "3.9.12"
  }
 },
 "nbformat": 4,
 "nbformat_minor": 5
}
