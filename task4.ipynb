{
 "cells": [
  {
   "cell_type": "code",
   "execution_count": 1,
   "id": "1bcdbe78-5c60-4fb0-945a-3cbdba0684d3",
   "metadata": {},
   "outputs": [],
   "source": [
    "month1 = ['쌍', '쇠', '복', '돌', '팽', '육', '쌍', '개', '칠', '갑', '삼', '방']"
   ]
  },
  {
   "cell_type": "code",
   "execution_count": 2,
   "id": "66a66a08-243b-4b87-aa3b-5a47ee52062a",
   "metadata": {},
   "outputs": [
    {
     "name": "stdout",
     "output_type": "stream",
     "text": [
      "['쌍', '쇠', '복', '돌', '팽', '육', '쌍', '개', '칠', '갑', '삼', '방']\n"
     ]
    }
   ],
   "source": [
    "print (month1)"
   ]
  },
  {
   "cell_type": "code",
   "execution_count": 3,
   "id": "b619b787-6da8-451e-832c-184c43c4d682",
   "metadata": {},
   "outputs": [],
   "source": [
    "day1 = ['봉', '구', '욕', '포', '똥', '삼', '식', '석', '놈', '님', '년', '돌', '단', '득', '방', '질', '장', '걸', '래', '룡', '동', '순', '자', '박', '창', '언', '것', '포', '만', '단', '국']"
   ]
  },
  {
   "cell_type": "code",
   "execution_count": 4,
   "id": "51ece33d-5a40-49fb-9bd9-e798b167e931",
   "metadata": {},
   "outputs": [
    {
     "name": "stdout",
     "output_type": "stream",
     "text": [
      "['봉', '구', '욕', '포', '똥', '삼', '식', '석', '놈', '님', '년', '돌', '단', '득', '방', '질', '장', '걸', '래', '룡', '동', '순', '자', '박', '창', '언', '것', '포', '만', '단', '국']\n"
     ]
    }
   ],
   "source": [
    "print(day1)"
   ]
  },
  {
   "cell_type": "code",
   "execution_count": 5,
   "id": "a90c3027-373c-411a-8841-9076711034ee",
   "metadata": {},
   "outputs": [],
   "source": [
    "def get_my_chosun_name(family_name, month, day):\n",
    "    chosun_name = family_name + month1[month - 1] + day1[day - 1]\n",
    "    print(\"당신의 조선시대 이름은\", chosun_name, \"입니다.\")"
   ]
  },
  {
   "cell_type": "code",
   "execution_count": 7,
   "id": "f9084bba-61a0-4e9e-b808-5f96e3a824e3",
   "metadata": {},
   "outputs": [
    {
     "name": "stdout",
     "output_type": "stream",
     "text": [
      "당신의 조선시대 이름은 유쌍순 입니다.\n"
     ]
    }
   ],
   "source": [
    "get_my_chosun_name('유',7,22)"
   ]
  },
  {
   "cell_type": "code",
   "execution_count": null,
   "id": "483d8333-a61e-41e7-ae2e-971abf36ff10",
   "metadata": {},
   "outputs": [],
   "source": []
  }
 ],
 "metadata": {
  "kernelspec": {
   "display_name": "Python 3 (ipykernel)",
   "language": "python",
   "name": "python3"
  },
  "language_info": {
   "codemirror_mode": {
    "name": "ipython",
    "version": 3
   },
   "file_extension": ".py",
   "mimetype": "text/x-python",
   "name": "python",
   "nbconvert_exporter": "python",
   "pygments_lexer": "ipython3",
   "version": "3.9.12"
  }
 },
 "nbformat": 4,
 "nbformat_minor": 5
}
